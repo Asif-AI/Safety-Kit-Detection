{
 "cells": [
  {
   "cell_type": "code",
   "execution_count": 1,
   "metadata": {},
   "outputs": [
    {
     "name": "stdout",
     "output_type": "stream",
     "text": [
      "ok\n"
     ]
    }
   ],
   "source": [
    "print(\"ok\")\n"
   ]
  },
  {
   "cell_type": "code",
   "execution_count": 1,
   "metadata": {},
   "outputs": [],
   "source": [
    "import pandas as pd"
   ]
  },
  {
   "cell_type": "code",
   "execution_count": 3,
   "metadata": {},
   "outputs": [
    {
     "name": "stderr",
     "output_type": "stream",
     "text": [
      "Cloning into 'yolov7'...\n",
      "Updating files:  68% (74/108)\n",
      "Updating files:  69% (75/108)\n",
      "Updating files:  70% (76/108)\n",
      "Updating files:  71% (77/108)\n",
      "Updating files:  72% (78/108)\n",
      "Updating files:  73% (79/108)\n",
      "Updating files:  74% (80/108)\n",
      "Updating files:  75% (81/108)\n",
      "Updating files:  76% (83/108)\n",
      "Updating files:  77% (84/108)\n",
      "Updating files:  78% (85/108)\n",
      "Updating files:  79% (86/108)\n",
      "Updating files:  80% (87/108)\n",
      "Updating files:  81% (88/108)\n",
      "Updating files:  82% (89/108)\n",
      "Updating files:  83% (90/108)\n",
      "Updating files:  84% (91/108)\n",
      "Updating files:  85% (92/108)\n",
      "Updating files:  86% (93/108)\n",
      "Updating files:  87% (94/108)\n",
      "Updating files:  88% (96/108)\n",
      "Updating files:  89% (97/108)\n",
      "Updating files:  90% (98/108)\n",
      "Updating files:  91% (99/108)\n",
      "Updating files:  92% (100/108)\n",
      "Updating files:  93% (101/108)\n",
      "Updating files:  94% (102/108)\n",
      "Updating files:  95% (103/108)\n",
      "Updating files:  96% (104/108)\n",
      "Updating files:  97% (105/108)\n",
      "Updating files:  98% (106/108)\n",
      "Updating files:  99% (107/108)\n",
      "Updating files: 100% (108/108)\n",
      "Updating files: 100% (108/108), done.\n"
     ]
    }
   ],
   "source": [
    "!git clone https://github.com/WongKinYiu/yolov7"
   ]
  },
  {
   "cell_type": "code",
   "execution_count": null,
   "metadata": {},
   "outputs": [],
   "source": []
  }
 ],
 "metadata": {
  "kernelspec": {
   "display_name": "Python 3",
   "language": "python",
   "name": "python3"
  },
  "language_info": {
   "codemirror_mode": {
    "name": "ipython",
    "version": 3
   },
   "file_extension": ".py",
   "mimetype": "text/x-python",
   "name": "python",
   "nbconvert_exporter": "python",
   "pygments_lexer": "ipython3",
   "version": "3.8.19"
  }
 },
 "nbformat": 4,
 "nbformat_minor": 2
}
